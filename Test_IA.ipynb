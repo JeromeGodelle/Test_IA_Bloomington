{
  "nbformat": 4,
  "nbformat_minor": 0,
  "metadata": {
    "colab": {
      "provenance": [],
      "authorship_tag": "ABX9TyPhyq/IB/EYLhJKwKaY3Xnl",
      "include_colab_link": true
    },
    "kernelspec": {
      "name": "python3",
      "display_name": "Python 3"
    },
    "language_info": {
      "name": "python"
    }
  },
  "cells": [
    {
      "cell_type": "markdown",
      "metadata": {
        "id": "view-in-github",
        "colab_type": "text"
      },
      "source": [
        "<a href=\"https://colab.research.google.com/github/JeromeGodelle/Test_IA_Bloomington/blob/main/Test_IA.ipynb\" target=\"_parent\"><img src=\"https://colab.research.google.com/assets/colab-badge.svg\" alt=\"Open In Colab\"/></a>"
      ]
    },
    {
      "cell_type": "markdown",
      "source": [
        "#Import et lecture des fichiers"
      ],
      "metadata": {
        "id": "2k8p19_o2uoJ"
      }
    },
    {
      "cell_type": "code",
      "execution_count": 7,
      "metadata": {
        "colab": {
          "base_uri": "https://localhost:8080/"
        },
        "id": "oYjVrFxvxejV",
        "outputId": "68ae01b8-d830-48df-be7e-f0b178e52105"
      },
      "outputs": [
        {
          "output_type": "stream",
          "name": "stdout",
          "text": [
            "fatal: destination path 'Test_IA_Bloomington' already exists and is not an empty directory.\n",
            "/content/Test_IA_Bloomington/crash-data-monroe-county-2019-3.csv\n",
            "Index(['Master Record Number', 'Agency', 'Local Code', 'County', 'Township',\n",
            "       'City', 'Collision Date', 'Collision Time', 'Vehicles Involved',\n",
            "       'Trailers Involved', 'Number Injured', 'Number Dead', 'Number Deer',\n",
            "       'House Number', 'Roadway Name', 'Roadway Suffix', 'Roadway Number',\n",
            "       'Roadway Interchange', 'Roadway Ramp', 'Roadway Id',\n",
            "       'Intersecting Road', 'Intersecting Road Number', 'Mile Marker',\n",
            "       'Interchange', 'Corporate Limits?', 'Property Type', 'Feet From',\n",
            "       'Direction', 'Latitude', 'Longitude', 'Roadway Class',\n",
            "       'Traffic Control Devices?', 'Aggressive Driving?', 'Hit and Run?',\n",
            "       'Locality', 'School Zone?', 'Rumble Strips?', 'Construction?',\n",
            "       'Construction Type', 'Light Condition', 'Weather Conditions',\n",
            "       'Surface Condition', 'Type of Median', 'Roadway Junction Type',\n",
            "       'Road Character', 'Roadway Surface', 'Primary Factor',\n",
            "       'Damage Estimate', 'Manner of Collision', 'Time Notified',\n",
            "       'Time Arrived', 'Investigation Complete?', 'Photos Taken?',\n",
            "       'Unique Location Id', 'State Property Damage?', 'Traffic Control',\n",
            "       'NARRATIVE'],\n",
            "      dtype='object')\n",
            "/content/Test_IA_Bloomington/pedestrian-and-bicyclist-counts-2020-1-2020-08-4.csv\n",
            "Index(['ï»¿_ID;Time;Bline Convention Cntr;7th and Park Campus;Jordan and 7th;N College and RR;S Walnut and Wylie;'], dtype='object')\n",
            "/content/Test_IA_Bloomington/pedestrian-and-bicyclist-counts-2019-5.csv\n",
            "Index(['_ID', 'Time', 'Bline Convention Cntr', '7th and Park Campus',\n",
            "       'Jordan and 7th', 'N College and RR', 'S Walnut and Wylie',\n",
            "       'Unnamed: 7'],\n",
            "      dtype='object')\n",
            "/content/Test_IA_Bloomington/traffic-count-1992-1-2019-12-9.csv\n",
            "Index(['Loc ID', 'County', 'Community', 'Functional Class', 'Rural Urban',\n",
            "       'On', 'From', 'To', 'Approach', 'At', 'Dir', 'Directions', 'Category',\n",
            "       'LRS ID', 'LRS Loc Pt', 'Latitude', 'Longitude', 'Latest',\n",
            "       'Latest Date'],\n",
            "      dtype='object')\n",
            "/content/Test_IA_Bloomington/pedestrian-and-bicyclist-counts-2017-8.csv\n",
            "Index(['Date', '7th and Park Campus', '7th underpass',\n",
            "       '7th underpass Pedestrians', '7th underpass Cyclists',\n",
            "       'Bline Convention Cntr', 'Pedestrians', 'Cyclists', 'Jordan and 7th',\n",
            "       'N College and RR', 'S Walnut and Wylie'],\n",
            "      dtype='object')\n",
            "/content/Test_IA_Bloomington/crash-data-monroe-county-2013-2018-7.csv\n",
            "Index(['Agency', 'City', 'DATE', 'TIME', 'VEH#', 'Trailers', 'INJ', 'DEAD',\n",
            "       'DEER', 'House#', 'Roadway Id', 'Intersect Rd.', 'Interchange', 'Ramp',\n",
            "       'Property Type', 'Feet From', 'Dir', 'Latitude', 'Longitude',\n",
            "       'Road Class', 'H&R', 'Locality', 'School ', 'Rumble Strips', 'CN Zone',\n",
            "       'CN Type', 'Light', 'Weather', 'Surf Con', 'Median', 'Rd Junction',\n",
            "       'Road Char', 'Surface', 'Primary Factor', 'Collision Type', 'Unique Id',\n",
            "       'Traffic Control'],\n",
            "      dtype='object')\n",
            "/content/Test_IA_Bloomington/crash-data-monroe-county-2003-to-2015-1.csv\n",
            "Index(['Master Record Number', 'Year', 'Month', 'Day', 'Weekend?', 'Hour',\n",
            "       'Collision Type', 'Injury Type', 'Primary Factor', 'Reported_Location',\n",
            "       'Latitude', 'Longitude'],\n",
            "      dtype='object')\n",
            "/content/Test_IA_Bloomington/pedestrian-and-bicyclist-counts-2018-6.csv\n",
            "Index(['Date', '7th and Park Campus', '7th underpass',\n",
            "       '7th underpass Pedestrians', '7th underpass Cyclists',\n",
            "       'Bline Convention Cntr', 'Pedestrians', 'Cyclists', 'Jordan and 7th',\n",
            "       'N College and RR', 'S Walnut and Wylie'],\n",
            "      dtype='object')\n"
          ]
        }
      ],
      "source": [
        "### Import libraries\n",
        "import pandas as pd\n",
        "import matplotlib.pyplot as plt\n",
        "import seaborn as sns\n",
        "import numpy as np\n",
        "from scipy.stats import norm\n",
        "from sklearn.preprocessing import StandardScaler\n",
        "from scipy import stats\n",
        "import warnings\n",
        "\n",
        "# Clone the repository containing dataset\n",
        "!git clone --depth 1 https://github.com/JeromeGodelle/Test_IA_Bloomington.git\n",
        "\n",
        "import os\n",
        "Repertoire = '/content/Test_IA_Bloomington'\n",
        "for dirname, _, filenames in os.walk(Repertoire):\n",
        "    for filename in filenames:\n",
        "        if(filename.endswith('.csv') == True):\n",
        "            print(os.path.join(dirname, filename))\n",
        "            df_input = pd.read_csv(dirname+'/'+filename, sep=',', encoding='cp1252')\n",
        "            print(df_input.keys())"
      ]
    },
    {
      "cell_type": "markdown",
      "source": [
        "Houlà, c'est compliqué!\n",
        "Quelques informations vues en ouvrant sur excel les fichiers...\n",
        "\n",
        "2 lots de fichiers:\n",
        "\n",
        "1- comptage du passage des piétons et cyclistes à des endroits particuliers. 2 types de fichiers avec informations différentes ou incomplètes... Va falloir sans doute compléter les data frame avec des extrapolations un peu classiques... par exemple tirage aléatoire sur la stat (mean, écart type si loi normale) vues dans les cas de données présentes. Par exemple loi de ratio Cycliste/piéton?\n",
        "\n",
        "2- liste des collisions avec lieux et heures approximatives, raison de l'accident, gravité (parfois). Encore une fois des données hétérogènes selon que l'on remonte loin dans le temps ou bien sur les data set plus récents.\n",
        "\n",
        "Point commun: on a quasi tout le temps la localisation GPS sauf sur les fichiers de comptages où les lieux sont peu nombreux (donc on peut remonter à la localisation GPS facilement)\n",
        "\n",
        "Idée possible à terme: fournir un modèle du risque de collision (voire sa gravité?) en tenant compte du ratio de survenue de collision / densité de trafic en tenant compte de la localisation (heat-map)? En tenant compte de l'heure dans la journée? en tenant compte de la journée de la semaine? du mois? ...\n"
      ],
      "metadata": {
        "id": "J9nfQTV0EPsF"
      }
    },
    {
      "cell_type": "code",
      "source": [],
      "metadata": {
        "id": "Sj36iwPYNbvX"
      },
      "execution_count": null,
      "outputs": []
    }
  ]
}